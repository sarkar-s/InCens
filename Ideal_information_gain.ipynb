{
 "cells": [
  {
   "cell_type": "code",
   "execution_count": 1,
   "metadata": {},
   "outputs": [],
   "source": [
    "import numpy as np\n",
    "import scipy.stats as st\n",
    "from scripts.BA_C import BA\n",
    "import math\n",
    "import random as rand\n",
    "import matplotlib.pyplot as plt\n",
    "import pandas as pd\n",
    "import os, sys"
   ]
  },
  {
   "cell_type": "code",
   "execution_count": 2,
   "metadata": {},
   "outputs": [],
   "source": [
    "\"\"\"Parameters to compute the output of the deterministic integration channel. \n",
    "Leakiness, 0<l<1, which determines the rate of leaky transcription in the absence of the environmental input, X.\n",
    "Frequency parameter, alpha>0, which determines the rate at which operator (O) switches between 0 and 1 states.\n",
    "\n",
    "k_m = Transcription rate constant\n",
    "k_dm = Transcript decay rate constant\n",
    "\n",
    "k_dgs = Set of protein decay rate constant, which determines the range of integration times, T = k_dm/k_dg.\n",
    "\n",
    "HX = Input code length in bits.\n",
    "X = 2^HX uniformly spaced values of the input in the domain [0,1].\n",
    "\"\"\"\n",
    "\n",
    "l = 0.01\n",
    "alpha = 1.0\n",
    "\n",
    "k_m = 0.5\n",
    "k_dm = 0.5\n",
    "\n",
    "k_dgs = [0.5,0.2,0.1,0.05,0.02,0.01,0.005,0.002,0.001,0.0005,0.0002]\n",
    "\n",
    "tag = str(int(k_m/k_dm))\n",
    "\n",
    "T = np.array([k_dm/k for k in k_dgs])\n",
    "\n",
    "HX = 6\n",
    "X = np.linspace(0,1.0,int(2**HX))\n",
    "\n",
    "# Replicates\n",
    "reps = 1"
   ]
  },
  {
   "cell_type": "code",
   "execution_count": 3,
   "metadata": {},
   "outputs": [],
   "source": [
    "\"\"\"Compute parameters for the transcript expression distribution as shown in,\n",
    "So, L. H., Ghosh, A., Zong, C., Sepúlveda, L. A., Segev, R., & Golding, I. (2011). General properties of transcriptional time series in Escherichia coli. Nature genetics, 43(6), 554-560.\n",
    "\n",
    "Rate constants for operator activity/inactivity:\n",
    "k_on = alpha[(1-l)X + l], which ranges for l to 1, when X changes from 0 to 1.\n",
    "k_off = alpha(1-l)(1-X), which changes from 1-l to 0, when X changes from 0 to 1.\n",
    "\n",
    "Using k_on, k_off, k_m, and k_dm, we compute the parameters for the Negative Binomial distribution, \n",
    "r = number of failures\n",
    "p = the probability of success \n",
    "\"\"\"\n",
    "\n",
    "r_params = np.zeros(shape=(X.shape[0],2))\n",
    "\n",
    "for i in range(0,X.shape[0]):\n",
    "    k_on = alpha*((1-l)*X[i] + l)\n",
    "    k_off = alpha*(1 - X[i])*(1 - l)\n",
    "    \n",
    "    m = (k_m/k_dm)*k_on/(k_on + k_off)\n",
    "    \n",
    "    b = 1 + (k_dm*k_off*m)/(k_on*(k_on+k_off+k_dm)) \n",
    "    \n",
    "    beta = b - 1\n",
    "    \n",
    "    if beta>0.0:\n",
    "        r_params[i,0] = m/beta\n",
    "        r_params[i,1] = (b - 1.0)/b\n",
    "    else:\n",
    "        r_params[i,0] = m\n",
    "        r_params[i,1] = 0.0"
   ]
  },
  {
   "cell_type": "code",
   "execution_count": 4,
   "metadata": {},
   "outputs": [],
   "source": [
    "bao = BA()\n",
    "\n",
    "bin_size = 100\n",
    "\n",
    "n_samples = 1000000\n",
    "\n",
    "all_cs = np.zeros(shape=(T.shape[0],1+reps))\n",
    "\n",
    "all_cs[:,0] = T"
   ]
  },
  {
   "cell_type": "code",
   "execution_count": 5,
   "metadata": {},
   "outputs": [
    {
     "name": "stderr",
     "output_type": "stream",
     "text": [
      "/usr/local/lib/python3.7/site-packages/ipykernel_launcher.py:18: DeprecationWarning: object of type <class 'numpy.float64'> cannot be safely interpreted as an integer.\n"
     ]
    },
    {
     "name": "stdout",
     "output_type": "stream",
     "text": [
      "[0.402963   0.73411555 0.93078326 1.18374076 1.57671177 1.92386251\n",
      " 2.30718623 2.85503964 3.29337085 3.7443304  4.33840378]\n"
     ]
    }
   ],
   "source": [
    "for rr in range(0,reps):\n",
    "    for it in range(0,T.shape[0]):\n",
    "        t = T[it]\n",
    "        \n",
    "        # create bins\n",
    "        if r_params[0,1]>0.0:\n",
    "            g_min = st.nbinom.ppf(0.01,r_params[0,0]*t,1-r_params[0,1])\n",
    "        else:\n",
    "            g_min = st.poisson.ppf(0.01,r_params[0,0]*t)\n",
    "\n",
    "        if r_params[-1,1]>0.0:\n",
    "            g_max = st.nbinom.ppf(0.99,r_params[-1,0]*t,1-r_params[-1,1])\n",
    "        else:\n",
    "            g_max = st.poisson.ppf(0.99,r_params[-1,0]*t)\n",
    "        \n",
    "        bin_size = min(200,g_max - g_min + 1)\n",
    "    \n",
    "        g_bin_edges = np.linspace(g_min,g_max+1,bin_size+1)\n",
    "        g_locs_i = g_bin_edges.astype(int)\n",
    "        g_pdfs = np.zeros(shape=(r_params.shape[0],g_locs_i.shape[0]))\n",
    "\n",
    "        for i in range(0,r_params.shape[0]):\n",
    "            if r_params[i,1]>0.0:\n",
    "                p = r_params[i,1]\n",
    "                r = r_params[i,0]*t\n",
    "\n",
    "                l_cdf = st.nbinom.cdf(g_locs_i,r,1-p,0)\n",
    "                #l_pdf = l_cdf\n",
    "                #l_pdf[1:] = l_pdf[1:] - l_pdf[:-1]\n",
    "            else:\n",
    "                r = r_params[i,0]*t\n",
    "                g_samples = st.poisson.rvs(r,0,n_samples)\n",
    "                \n",
    "                l_cdf = st.poisson.cdf(g_locs_i,r,0)\n",
    "                    \n",
    "            l_pdf = l_cdf\n",
    "            l_pdf[1:] = l_pdf[1:] - l_pdf[:-1]\n",
    "                \n",
    "            g_pdfs[i,:] = l_pdf/np.sum(l_pdf)\n",
    "\n",
    "\n",
    "        bao.set_response(g_pdfs)\n",
    "        c_g, e, p = bao.get_CC()\n",
    "\n",
    "        all_cs[it,0] = t\n",
    "        all_cs[it,rr+1] = c_g\n",
    "\n",
    "print(all_cs[:,1])"
   ]
  },
  {
   "cell_type": "code",
   "execution_count": 7,
   "metadata": {},
   "outputs": [
    {
     "data": {
      "image/png": "[encoded data removed]",
      "text/plain": [
       "<Figure size 360x288 with 1 Axes>"
      ]
     },
     "metadata": {
      "needs_background": "light"
     },
     "output_type": "display_data"
    }
   ],
   "source": [
    "fig = plt.figure(figsize=(5,4))\n",
    "\n",
    "plt.plot(all_cs[:,0],all_cs[:,1],marker='.',ms=10)\n",
    "plt.xscale('log')\n",
    "plt.xlabel(r'Integration time, $T=k_{d,m}/k_{d,g}$',size=16)\n",
    "plt.ylabel(r'$c(X;g_{\\mathrm{ideal}})$',size=16)\n",
    "plt.tick_params(labelsize=16)"
   ]
  },
  {
   "cell_type": "code",
   "execution_count": null,
   "metadata": {},
   "outputs": [],
   "source": []
  }
 ],
 "metadata": {
  "kernelspec": {
   "display_name": "Python 3",
   "language": "python",
   "name": "python3"
  },
  "language_info": {
   "codemirror_mode": {
    "name": "ipython",
    "version": 3
   },
   "file_extension": ".py",
   "mimetype": "text/x-python",
   "name": "python",
   "nbconvert_exporter": "python",
   "pygments_lexer": "ipython3",
   "version": "3.7.3"
  }
 },
 "nbformat": 4,
 "nbformat_minor": 4
}

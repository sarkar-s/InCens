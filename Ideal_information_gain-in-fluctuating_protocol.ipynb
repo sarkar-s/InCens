{
 "cells": [
  {
   "cell_type": "code",
   "execution_count": 29,
   "metadata": {},
   "outputs": [],
   "source": [
    "import os,sys\n",
    "import numpy as np\n",
    "import scipy.stats as st\n",
    "from scripts.BA_C import BA\n",
    "import math\n",
    "import random as rand\n",
    "import matplotlib.pyplot as plt\n",
    "import pandas as pd\n",
    "import seaborn as sns\n",
    "\n",
    "import scipy.stats as st\n",
    "from matplotlib import rcParams\n",
    "from matplotlib import gridspec\n",
    "from sklearn.feature_selection import f_regression, mutual_info_regression"
   ]
  },
  {
   "cell_type": "code",
   "execution_count": 30,
   "metadata": {},
   "outputs": [],
   "source": [
    "def sample_X(true_cdf):\n",
    "    xi = rand.uniform(0,1.0)\n",
    "    \n",
    "    i = np.argwhere(true_cdf>xi)[0][0]\n",
    "    \n",
    "    return i"
   ]
  },
  {
   "cell_type": "code",
   "execution_count": 31,
   "metadata": {},
   "outputs": [],
   "source": [
    "def next_jump(total_propensity):\n",
    "    xi = rand.uniform(1e-6,1.0)\n",
    "    dt = -math.log(xi)/total_propensity\n",
    "    \n",
    "    return dt"
   ]
  },
  {
   "cell_type": "code",
   "execution_count": 32,
   "metadata": {},
   "outputs": [],
   "source": [
    "def next_jump_and_event_type(on,off,m_p,m_d):\n",
    "    total = on + off + m_p + m_d\n",
    "    \n",
    "    xi = rand.uniform(0,1.0)\n",
    "    \n",
    "    if xi<m_p/total:\n",
    "        event = 'm_p'\n",
    "    elif xi>=m_p/total and xi<(m_p+m_d)/total:\n",
    "        event = 'm_d'\n",
    "    elif xi>=(m_p+m_d)/total and xi<(m_p+m_d+on)/total:\n",
    "        event = 'on'\n",
    "    else:\n",
    "        event = 'off'\n",
    "        \n",
    "    xi = rand.uniform(1e-8,1.0)\n",
    "        \n",
    "    dt = -math.log(xi)/total\n",
    "        \n",
    "    return event, dt"
   ]
  },
  {
   "cell_type": "code",
   "execution_count": 33,
   "metadata": {},
   "outputs": [
    {
     "ename": "FileNotFoundError",
     "evalue": "[Errno 2] No such file or directory: './Example_data/'",
     "output_type": "error",
     "traceback": [
      "\u001b[0;31m---------------------------------------------------------------------------\u001b[0m",
      "\u001b[0;31mFileNotFoundError\u001b[0m                         Traceback (most recent call last)",
      "\u001b[0;32m<ipython-input-33-2cd71fbffe28>\u001b[0m in \u001b[0;36m<module>\u001b[0;34m\u001b[0m\n\u001b[1;32m      1\u001b[0m \u001b[0mdata_directory\u001b[0m \u001b[0;34m=\u001b[0m \u001b[0;34m'./Example_data/'\u001b[0m\u001b[0;34m\u001b[0m\u001b[0;34m\u001b[0m\u001b[0m\n\u001b[0;32m----> 2\u001b[0;31m \u001b[0mos\u001b[0m\u001b[0;34m.\u001b[0m\u001b[0mchdir\u001b[0m\u001b[0;34m(\u001b[0m\u001b[0mdata_directory\u001b[0m\u001b[0;34m)\u001b[0m\u001b[0;34m\u001b[0m\u001b[0;34m\u001b[0m\u001b[0m\n\u001b[0m",
      "\u001b[0;31mFileNotFoundError\u001b[0m: [Errno 2] No such file or directory: './Example_data/'"
     ]
    }
   ],
   "source": [
    "data_directory = './Example_data/'\n",
    "os.chdir(data_directory)"
   ]
  },
  {
   "cell_type": "code",
   "execution_count": 34,
   "metadata": {},
   "outputs": [
    {
     "name": "stdout",
     "output_type": "stream",
     "text": [
      "[0.19754448 0.35287857 0.4401209  0.52902789 0.58854379 0.67267764\n",
      " 0.69995536 0.80011178 0.82631264 0.82631265 1.        ]\n"
     ]
    }
   ],
   "source": [
    "# Optimal input distribution that achieves the ideal channel capacity for the integration time T\n",
    "\n",
    "true_pX = np.array([1.97544481e-01,1.55334094e-01,8.72423287e-02,8.89069841e-02,5.95158979e-02,8.41338592e-02,2.72777107e-02,1.00156427e-01,2.62008568e-02,6.88904865e-09,1.73687353e-01])\n",
    "\n",
    "X = np.linspace(0,1.0,true_pX.shape[0])\n",
    "sX = np.linspace(0,1.0,true_pX.shape[0])\n",
    "\n",
    "pr_array = np.zeros(shape=(X.shape[0],3))\n",
    "\n",
    "true_cdf = np.zeros(shape=(true_pX.shape[0]))\n",
    "\n",
    "for i in range(0,X.shape[0]):\n",
    "    true_cdf[i] = np.sum(true_pX) - np.sum(true_pX[i+1:])\n",
    "    \n",
    "print(true_cdf)"
   ]
  },
  {
   "cell_type": "code",
   "execution_count": 35,
   "metadata": {},
   "outputs": [
    {
     "data": {
      "text/plain": [
       "[<matplotlib.lines.Line2D at 0x13762dcf8>]"
      ]
     },
     "execution_count": 35,
     "metadata": {},
     "output_type": "execute_result"
    },
    {
     "data": {
      "image/png": "[encoded data removed]",
      "text/plain": [
       "<Figure size 432x288 with 1 Axes>"
      ]
     },
     "metadata": {
      "needs_background": "light"
     },
     "output_type": "display_data"
    }
   ],
   "source": [
    "\"\"\"Parameters to compute the output of the deterministic integration channel. \n",
    "Leakiness, 0<l<1, which determines the rate of leaky transcription in the absence of the environmental input, X.\n",
    "Frequency parameter, alpha>0, which determines the rate at which operator (O) switches between 0 and 1 states.\n",
    "\n",
    "k_m = Transcription rate constant\n",
    "k_dm = Transcript decay rate constant\n",
    "\n",
    "T = Dimensionless integration time, the protein decay rate constant is computed as k_dg = k_dm/T.\n",
    "\n",
    "Tf = Time period of fluctuation in the input.\n",
    "kernel_window_size = Numerical width of the exponentially decaying kernel, e^{-k_dg t}.\n",
    "\"\"\"\n",
    "\n",
    "l = 0.01\n",
    "alpha = 1.0\n",
    "\n",
    "k_m = 0.5\n",
    "k_dm = 0.5\n",
    "\n",
    "\n",
    "T = 100\n",
    "k_dg = k_dm/T\n",
    "\n",
    "kernel_window_size = 4.0\n",
    "\n",
    "# Change Tf relative to the translation response time 1/k_dg, and compute I(X;g_ideal)\n",
    "Tf = 100.0/k_dg\n",
    "\n",
    "kernel_window_time = kernel_window_size/k_dg\n",
    "\n",
    "kernel_points = int(kernel_window_size*k_dm/k_dg)\n",
    "kernel_times = np.linspace(0,kernel_window_time,kernel_points+1)\n",
    "kernel = np.zeros(shape=(kernel_points+1,))\n",
    "\n",
    "for j in range(0,kernel_times.shape[0]):\n",
    "    kernel[j] = math.exp(-k_dg*kernel_times[j])\n",
    "    \n",
    "plt.plot(kernel_times,kernel)"
   ]
  },
  {
   "cell_type": "markdown",
   "metadata": {},
   "source": [
    "g_min = st.gamma.ppf(0.01,k_low,0,1)\n",
    "g_max = st.gamma.ppf(0.99,k_up,0,1)\n",
    "print(g_min,g_max)\n",
    "\n",
    "bin_size = 50\n",
    "\n",
    "g_bins = list(10**np.linspace(math.log10(0.1),math.log10(g_max+1),bin_size))\n",
    "g_bins.insert(0,-1)\n",
    "g_bins = np.array(g_bins)\n",
    "g_pdfs = np.zeros(shape=(X.shape[0],bin_size))\n",
    "expressions = np.zeros(shape=(X.shape[0]+1,bin_size))"
   ]
  },
  {
   "cell_type": "code",
   "execution_count": 36,
   "metadata": {},
   "outputs": [
    {
     "name": "stdout",
     "output_type": "stream",
     "text": [
      "Total samples of X during the protocol:  100.0 1000000\n"
     ]
    }
   ],
   "source": [
    "# Repeats\n",
    "reps = 10\n",
    "\n",
    "# Sampling interval\n",
    "t_sample = 1.0/k_dm\n",
    "\n",
    "n_samples = int(1000*Tf/t_sample)\n",
    "\n",
    "joint_samples = np.zeros(shape=(n_samples,3))\n",
    "times = np.zeros(shape=(n_samples,))\n",
    "\n",
    "print('Total samples of X during the protocol: ',(n_samples*t_sample)/Tf,n_samples)"
   ]
  },
  {
   "cell_type": "code",
   "execution_count": 12,
   "metadata": {},
   "outputs": [],
   "source": [
    "ii = sample_X(true_cdf)\n",
    "tX = X[ii]\n",
    "\n",
    "current_time = 0.0\n",
    "event_counter = 0\n",
    "last_sample_event = 0\n",
    "\n",
    "# Operator state \n",
    "O_on = 0\n",
    "O_off = 1\n",
    "\n",
    "# Transcription on or off    \n",
    "k_on = alpha*((1-l)*tX + l)\n",
    "k_off = alpha*(1 - tX)*(1 - l)\n",
    "\n",
    "# Initial transcript count\n",
    "m_g = int((k_m/k_dm)*k_on/(k_on + k_off))\n",
    "\n",
    "m_g_samples = np.zeros(shape=(n_samples,))\n",
    "m_g_samples[0] = m_g\n",
    "\n",
    "g_int = 0.0\n",
    "\n",
    "current_time = 0\n",
    "next_sample_time = t_sample\n",
    "samples = 1\n",
    "next_switch_time = Tf\n",
    "X_samples = [tX]\n",
    "\n",
    "while samples<n_samples:\n",
    "    # Transcription on or off    \n",
    "    k_on = alpha*((1-l)*tX + l)\n",
    "    k_off = alpha*(1 - tX)*(1 - l)\n",
    "\n",
    "    # transcription propensities\n",
    "    m_production = k_m*O_on\n",
    "    m_degradation = k_dm*m_g\n",
    "\n",
    "    event, dt = next_jump_and_event_type(k_on,k_off,m_production,m_degradation)\n",
    "\n",
    "    current_time += dt\n",
    "    event_counter += 1\n",
    "\n",
    "    if current_time>next_sample_time:\n",
    "        joint_samples[samples,0] = tX\n",
    "        joint_samples[samples,1] = m_g\n",
    "        joint_samples[samples,2] = O_on\n",
    "        \n",
    "        times[samples] = current_time\n",
    "\n",
    "        next_sample_time += t_sample + (current_time - next_sample_time)\n",
    "\n",
    "        samples += 1\n",
    "\n",
    "        last_sample_event = event_counter\n",
    "        \n",
    "    if current_time>next_switch_time:\n",
    "        ii = sample_X(true_cdf)\n",
    "        tX = X[ii]\n",
    "        \n",
    "        X_samples.append(tX)\n",
    "\n",
    "        next_switch_time += Tf + (current_time - next_sample_time)        \n",
    "\n",
    "    if event=='m_p':\n",
    "        m_g += 1\n",
    "    elif event=='m_d':\n",
    "        m_g += -1\n",
    "    elif event=='off':\n",
    "        O_on = 0\n",
    "        O_off = 1\n",
    "    elif event=='on':\n",
    "        O_on = 1\n",
    "        O_off = 0\n",
    "\n",
    "g_samples = np.convolve(np.array(joint_samples[:,1]),np.array(kernel),'valid')"
   ]
  },
  {
   "cell_type": "code",
   "execution_count": 13,
   "metadata": {},
   "outputs": [
    {
     "name": "stdout",
     "output_type": "stream",
     "text": [
      "(99600,)\n",
      "140\n"
     ]
    }
   ],
   "source": [
    "print(g_samples.shape)\n",
    "print(len(X_samples))\n",
    "g_times = times[(times.shape[0]-g_samples.shape[0]):]\n",
    "\n",
    "joint_g = np.zeros(shape=(g_times.shape[0],2))\n",
    "joint_g[:,1] = g_samples\n",
    "joint_g[:,0] = joint_samples[(times.shape[0]-g_samples.shape[0]):,0]"
   ]
  },
  {
   "cell_type": "code",
   "execution_count": 14,
   "metadata": {},
   "outputs": [
    {
     "name": "stdout",
     "output_type": "stream",
     "text": [
      "0.9999999999999999\n"
     ]
    }
   ],
   "source": [
    "total_g_samples = {}\n",
    "\n",
    "for iX in list(X):\n",
    "    total_g_samples[str(iX)] = []\n",
    "    \n",
    "for i in range(0,g_times.shape[0]):\n",
    "    total_g_samples[str(joint_g[i,0])].append(joint_g[i,1])\n",
    "    \n",
    "gmax, gmin = max(joint_g[:,1]), min(joint_g[:,0])\n",
    "\n",
    "bin_size = min(25,int(gmax - gmin))\n",
    "g_bins = np.linspace(gmin,gmax,bin_size+1)\n",
    "g_pdfs = np.zeros(shape=(X.shape[0],bin_size))\n",
    "\n",
    "for i in range(0,X.shape[0]):\n",
    "    if i!=9:\n",
    "        hist, be = np.histogram(total_g_samples[str(X[i])],g_bins)\n",
    "        g_pdfs[i,:] = hist#/np.sum(hist)\n",
    "    \n",
    "g_pdfs *= 1.0/np.sum(np.sum(g_pdfs))\n",
    "print(np.sum(np.sum(g_pdfs)))"
   ]
  },
  {
   "cell_type": "code",
   "execution_count": 28,
   "metadata": {},
   "outputs": [
    {
     "data": {
      "text/plain": [
       "<matplotlib.legend.Legend at 0x13757ada0>"
      ]
     },
     "execution_count": 28,
     "metadata": {},
     "output_type": "execute_result"
    },
    {
     "data": {
      "image/png": "[encoded data removed]",
      "text/plain": [
       "<Figure size 432x288 with 1 Axes>"
      ]
     },
     "metadata": {
      "needs_background": "light"
     },
     "output_type": "display_data"
    }
   ],
   "source": [
    "# Check in the sampled distribution of X matches the optimal input distribution\n",
    "h, b = np.histogram(joint_samples[:,0],bins=X.shape[0])\n",
    "\n",
    "h = h/np.sum(h)\n",
    "\n",
    "plt.plot(X,h,alpha=0.5,color='r',label=r'$P_{opt}(X)$')\n",
    "plt.plot(X,true_pX,color='g',label=r'Sampled $P(X)$')\n",
    "plt.tick_params(labelsize=16)\n",
    "plt.xlabel(r'$X$',size=16)\n",
    "plt.ylabel(r'$P(X)$',size=16)\n",
    "plt.legend(frameon=False)"
   ]
  },
  {
   "cell_type": "code",
   "execution_count": 17,
   "metadata": {},
   "outputs": [
    {
     "name": "stdout",
     "output_type": "stream",
     "text": [
      "1.5024207057105756\n"
     ]
    }
   ],
   "source": [
    "pX = np.sum(g_pdfs,axis=1)\n",
    "pg = np.sum(g_pdfs,axis=0)\n",
    "\n",
    "mi = 0.0\n",
    "\n",
    "for i in range(0,g_pdfs.shape[0]):\n",
    "    for j in range(0,g_pdfs.shape[1]):\n",
    "        if pX[i]>0.0 and pg[j]>0.0 and g_pdfs[i,j]>0.0:\n",
    "            mi += g_pdfs[i,j]*math.log(g_pdfs[i,j]/(pX[i]*pg[j]))\n",
    "            \n",
    "mi *= 1.0/math.log(2.0)\n",
    "print(mi)"
   ]
  },
  {
   "cell_type": "markdown",
   "metadata": {},
   "source": [
    "casename = 'expressions'+str(k_g).replace('.','_')+'-'+str(k_dg).replace('.','_')+'.csv'\n",
    "\n",
    "expressions[1:,:] = g_pdfs\n",
    "\n",
    "lg_bins = list(np.log10(g_bins))\n",
    "g_head = np.array([0.5*(lg_bins[i]+lg_bins[i+1]) for i in range(0,len(lg_bins)-1)])\n",
    "\n",
    "expressions[0,:] = 10**g_head\n",
    "\n",
    "np.savetxt(casename,expressions,delimiter=',')"
   ]
  },
  {
   "cell_type": "code",
   "execution_count": 18,
   "metadata": {},
   "outputs": [],
   "source": [
    "filename = 'Ifluc'+str(int(T))+'.csv'\n",
    "\n",
    "try:\n",
    "    ff = open(filename,'a')\n",
    "except OSError:\n",
    "    ff = open(filename,'w')\n",
    "    print('Tf,rTf,T,I',file=ff)\n",
    "    ff.close()\n",
    "    \n",
    "print(str(Tf)+','+str(Tf*k_dg)+','+str(k_dm/k_dg)+','+str(mi),file=open(filename,'a'))"
   ]
  },
  {
   "cell_type": "code",
   "execution_count": null,
   "metadata": {},
   "outputs": [],
   "source": []
  }
 ],
 "metadata": {
  "kernelspec": {
   "display_name": "Python 3",
   "language": "python",
   "name": "python3"
  },
  "language_info": {
   "codemirror_mode": {
    "name": "ipython",
    "version": 3
   },
   "file_extension": ".py",
   "mimetype": "text/x-python",
   "name": "python",
   "nbconvert_exporter": "python",
   "pygments_lexer": "ipython3",
   "version": "3.7.3"
  }
 },
 "nbformat": 4,
 "nbformat_minor": 4
}

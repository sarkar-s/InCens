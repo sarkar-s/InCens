{
 "cells": [
  {
   "cell_type": "markdown",
   "metadata": {},
   "source": [
    "# Computation of protein-level information gain curves"
   ]
  },
  {
   "cell_type": "markdown",
   "metadata": {},
   "source": [
    "Computes the channel capacity for the protein expression level from the Gillespie simulation results and further corrects for overesimation due to finite number of samples."
   ]
  },
  {
   "cell_type": "code",
   "execution_count": null,
   "metadata": {},
   "outputs": [],
   "source": [
    "import os,sys\n",
    "import numpy as np\n",
    "import scipy.stats as st\n",
    "import scripts.BA_C as bao\n",
    "import math\n",
    "import random as rand\n",
    "import matplotlib.pyplot as plt\n",
    "import glob\n",
    "import pandas as pd\n",
    "import scipy.stats as st\n",
    "from matplotlib import rcParams\n",
    "import matplotlib.gridspec as gridspec"
   ]
  },
  {
   "cell_type": "code",
   "execution_count": null,
   "metadata": {},
   "outputs": [],
   "source": [
    "def get_subsample_data(this_data,df):\n",
    "    sub_data = np.zeros(shape=(int(this_data.shape[0]/df),this_data.shape[1]))\n",
    "    \n",
    "    for i in range(0,this_data.shape[1]):\n",
    "        sub_data[:,i] = rand.choices(this_data[:,i],k=sub_data.shape[0])\n",
    "        \n",
    "    return sub_data"
   ]
  },
  {
   "cell_type": "markdown",
   "metadata": {},
   "source": [
    "Select fractions for which to sample (with replacements) the stochastic simulation data and the number of replicates for each fraction."
   ]
  },
  {
   "cell_type": "code",
   "execution_count": null,
   "metadata": {},
   "outputs": [],
   "source": [
    "data_fractions = [1,2,5]\n",
    "reps = 10"
   ]
  },
  {
   "cell_type": "markdown",
   "metadata": {},
   "source": [
    "Read the protein expression levels from the Gillespie simulation of the central dogma reaction system."
   ]
  },
  {
   "cell_type": "code",
   "execution_count": null,
   "metadata": {},
   "outputs": [],
   "source": [
    "data_directory = './simulation_results/test_samples'\n",
    "os.chdir(data_directory)\n",
    "\n",
    "c_files = glob.glob('T*.csv')"
   ]
  },
  {
   "cell_type": "code",
   "execution_count": null,
   "metadata": {},
   "outputs": [],
   "source": [
    "t_values = []\n",
    "datas = {}\n",
    "diss_datas = {}\n",
    "\n",
    "for f in c_files:\n",
    "    t = f.replace('T','').replace('.csv','').replace('_','.')\n",
    "\n",
    "    datas[t] = pd.read_csv(f,header=None).to_numpy()\n",
    "    \n",
    "    t_values.append(float(t))\n",
    "\n",
    "t_values.sort()\n",
    "\n",
    "t_and_c = np.zeros(shape=(len(t_values),2))\n",
    "t_and_c[:,0] = np.array(t_values)"
   ]
  },
  {
   "cell_type": "markdown",
   "metadata": {},
   "source": [
    "Calculate the channel capacity for all data fractions and replicates and then linearly fit the channel capacity values vs the data fractions. The y-intercept of the linear fit is the channel capacity after correcting for the finite-sampling bias."
   ]
  },
  {
   "cell_type": "code",
   "execution_count": null,
   "metadata": {},
   "outputs": [],
   "source": [
    "max_bins = 32\n",
    "\n",
    "cs = []\n",
    "\n",
    "print('T \\t c(X;g)')\n",
    "\n",
    "for i in range(0,t_and_c.shape[0]):\n",
    "    d = str(t_and_c[i,0])\n",
    "    \n",
    "    gmin, gmax = np.min(datas[d]),np.max(datas[d])\n",
    "    \n",
    "    if t_and_c[i,0]<10.0:\n",
    "        bins = max_bins/8\n",
    "    elif t_and_c[i,0]<100.0:\n",
    "        bins = max_bins/4\n",
    "    elif t_and_c[i,0]<1000.0:\n",
    "        bins = max_bins/2\n",
    " \n",
    "    bin_size = int(min(bins,int(gmax - gmin + 1)))\n",
    "            \n",
    "    g_edges = np.linspace(gmin,gmax,bin_size+1)\n",
    "    \n",
    "    this_c_set = np.zeros(shape=(len(data_fractions)*reps,2))\n",
    "    \n",
    "    k = 0\n",
    "    \n",
    "    for df in data_fractions:\n",
    "        for r in range(0,reps):\n",
    "            sub_data = get_subsample_data(datas[d],df)\n",
    "            \n",
    "            g_pdfs = np.zeros(shape=(datas[d].shape[1],bin_size))\n",
    "\n",
    "            for j in range(0,datas[d].shape[1]):\n",
    "                ghist, bin_edges = np.histogram(sub_data[:,j],bins=g_edges)\n",
    "\n",
    "                g_pdfs[j,:] = ghist/np.sum(ghist)\n",
    "    \n",
    "            c, e, p = bao.get_CC(g_pdfs)\n",
    "            \n",
    "            this_c_set[k,0] = df\n",
    "            this_c_set[k,1] = c\n",
    "            \n",
    "            k += 1\n",
    "            \n",
    "    res = st.linregress(this_c_set[:,0],this_c_set[:,1])\n",
    "    \n",
    "    c = float(\"{:.2f}\".format(res.intercept))\n",
    "    \n",
    "    t_and_c[i,1] = c\n",
    "    \n",
    "    print(d,'\\t',c)\n",
    "    \n",
    "sorted_t_and_c = t_and_c[tuple([np.argsort(t_and_c[:,0])])]"
   ]
  },
  {
   "cell_type": "markdown",
   "metadata": {},
   "source": [
    "Plot and save the information gain curve."
   ]
  },
  {
   "cell_type": "code",
   "execution_count": null,
   "metadata": {},
   "outputs": [],
   "source": [
    "outfile = 'C-summary.csv'\n",
    "\n",
    "np.savetxt(outfile,sorted_t_and_c,delimiter=',',header='T,c_g',comments='')\n",
    "\n",
    "fig = plt.figure(figsize=(5,4))\n",
    "\n",
    "plt.plot(t_and_c[:,0],t_and_c[:,1],marker='.',ms=10)\n",
    "plt.xscale('log')\n",
    "plt.xlabel(r'Integration time, $T=k_{d,m}/k_{d,g}$',size=16)\n",
    "plt.ylabel(r'$c(X;g)$ (bits)',size=16)\n",
    "plt.tick_params(labelsize=16)"
   ]
  },
  {
   "cell_type": "code",
   "execution_count": null,
   "metadata": {},
   "outputs": [],
   "source": []
  }
 ],
 "metadata": {
  "kernelspec": {
   "display_name": "Python 3",
   "language": "python",
   "name": "python3"
  },
  "language_info": {
   "codemirror_mode": {
    "name": "ipython",
    "version": 3
   },
   "file_extension": ".py",
   "mimetype": "text/x-python",
   "name": "python",
   "nbconvert_exporter": "python",
   "pygments_lexer": "ipython3",
   "version": "3.7.3"
  }
 },
 "nbformat": 4,
 "nbformat_minor": 4
}

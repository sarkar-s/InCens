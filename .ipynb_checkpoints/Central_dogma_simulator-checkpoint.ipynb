{
 "cells": [
  {
   "cell_type": "markdown",
   "metadata": {},
   "source": [
    "# Central dogma simulator"
   ]
  },
  {
   "cell_type": "markdown",
   "metadata": {},
   "source": [
    "Computes protein expression level (or protein copy number) for a generic central dogma reaction system for a set of integration times $T\\equiv k_{d,m}/k_{d,g}$. The transcript rate constant ($k_m$), transcript decay rate constant ($k_{d,m}$), and the translation power ($k_g/k_{d,g}$) are fixed for all simulations. While the protein decay rate constant ($k_{d,g}$) changes to cover the range of integration time.\n",
    "\n",
    "These simulations can take hours, depending on the parameters. Check out the script *./scripts/CentralDogmaSimulator.py* which runs the same code from the command line."
   ]
  },
  {
   "cell_type": "code",
   "execution_count": 1,
   "metadata": {},
   "outputs": [],
   "source": [
    "import os,sys\n",
    "import numpy as np\n",
    "import scipy.stats as st\n",
    "import math\n",
    "import random as rand\n",
    "\n",
    "import scripts.kMC as kMC\n",
    "\n",
    "from scripts.simulation_data import simulation_data"
   ]
  },
  {
   "cell_type": "markdown",
   "metadata": {},
   "source": [
    "Select the dataset for Gillespie simulation and the number of samples to obtain from Gillespie simulations. The central dogma rate constants, the number of input levels, and the sampling interval are already specified in the *simulation_data*."
   ]
  },
  {
   "cell_type": "code",
   "execution_count": 2,
   "metadata": {},
   "outputs": [],
   "source": [
    "selected_data = \"test\"\n",
    "n_samples = 1000"
   ]
  },
  {
   "cell_type": "code",
   "execution_count": 3,
   "metadata": {},
   "outputs": [],
   "source": [
    "data_directory = './simulation_results/'\n",
    "\n",
    "try:\n",
    "    os.chdir(data_directory)\n",
    "except OSError:\n",
    "    os.mkdir(data_directory)\n",
    "    os.chdir(data_directory)\n",
    "\n",
    "expression_directory = selected_data.replace(' ','-')+'_samples'\n",
    "\n",
    "try:\n",
    "    os.chdir(expression_directory)\n",
    "except OSError:\n",
    "    os.mkdir(expression_directory)\n",
    "    os.chdir(expression_directory)"
   ]
  },
  {
   "cell_type": "markdown",
   "metadata": {},
   "source": [
    "Select the frequency parameter, $alpha$, or the rate at which the operator state switches between ON (1) and OFF(0), and leakiness $l$, or the probability of the operator state being ON in the absence of the environmental input. $alpha$ is in the unit of $\\mathrm{min}^{-1}$."
   ]
  },
  {
   "cell_type": "code",
   "execution_count": 4,
   "metadata": {},
   "outputs": [],
   "source": [
    "alpha = 1.0\n",
    "l = 0.01"
   ]
  },
  {
   "cell_type": "markdown",
   "metadata": {},
   "source": [
    "Read the central dogma rate constants for the selected dataset. "
   ]
  },
  {
   "cell_type": "code",
   "execution_count": 5,
   "metadata": {},
   "outputs": [],
   "source": [
    "k_m = simulation_data[selected_data]['k_m']\n",
    "k_dm = simulation_data[selected_data]['k_dm']\n",
    "k_dgs = simulation_data[selected_data]['k_dg']\n",
    "translation_power = simulation_data[selected_data]['translation power']"
   ]
  },
  {
   "cell_type": "markdown",
   "metadata": {},
   "source": [
    "Perform Gillespie simulation of the generic central dogma reaction system. For each integration time value, Gillespie simulations are performed for a set of input values $X$, and the protein copy number sampled from the stochastic trajectory is stored as the output, which is lated used to compute the protein-level channel capacity, $c(X;g)$."
   ]
  },
  {
   "cell_type": "code",
   "execution_count": 6,
   "metadata": {},
   "outputs": [
    {
     "name": "stdout",
     "output_type": "stream",
     "text": [
      "Gillespie simulations for T= 1.0 completed.\n",
      "Gillespie simulations for T= 2.5 completed.\n",
      "Gillespie simulations for T= 5.0 completed.\n",
      "Gillespie simulations for T= 10.0 completed.\n",
      "Gillespie simulations for T= 25.0 completed.\n",
      "Gillespie simulations for T= 50.0 completed.\n",
      "Gillespie simulations for T= 100.0 completed.\n",
      "Gillespie simulations for T= 250.0 completed.\n",
      "Gillespie simulations for T= 500.0 completed.\n",
      "Gillespie simulations for T= 1000.0 completed.\n",
      "Gillespie simulations for T= 2500.0 completed.\n"
     ]
    }
   ],
   "source": [
    "for k_dg_i in range(0,len(k_dgs)):\n",
    "    k_dg = k_dgs[k_dg_i]\n",
    "    k_g = translation_power*k_dg\n",
    "\n",
    "    state = {}\n",
    "    state['O_on'] = 0\n",
    "    state['O_off'] = 1\n",
    "    state['m'] = 0\n",
    "    state['g'] = 0\n",
    "\n",
    "    central_dogma_rates = {}\n",
    "    central_dogma_rates['k_m'] = k_m\n",
    "    central_dogma_rates['k_dm'] = k_dm\n",
    "    central_dogma_rates['k_g'] = k_g\n",
    "    central_dogma_rates['k_dg'] = k_dg\n",
    "\n",
    "    g_samples = {}\n",
    "    m_samples = {}\n",
    "\n",
    "    X = np.linspace(0,1.0,int(simulation_data[selected_data]['input size'][k_dg_i]))\n",
    "\n",
    "    g_sample_array = np.zeros(shape=(n_samples,X.shape[0]))\n",
    "    dissipation = np.zeros(shape=(X.shape[0],))\n",
    "\n",
    "    t_sample = int(simulation_data[selected_data]['sample interval'][k_dg_i])\n",
    "\n",
    "    for i in range(0,X.shape[0]):\n",
    "        current_time = 0.0\n",
    "        event_counter = 0\n",
    "        last_sample_event = 0\n",
    "\n",
    "        # Transcription on or off\n",
    "        k_on = alpha*((1-l)*X[i] + l)\n",
    "        k_off = alpha*(1 - X[i])*(1 - l)\n",
    "\n",
    "        # Initial transcript count\n",
    "        m = int((k_m/k_dm)*k_on/(k_on + k_off))\n",
    "\n",
    "        m_samples[i] = [m]\n",
    "\n",
    "        g = int((k_g/k_dg)*(k_m/k_dm)*k_on/(k_on + k_off))\n",
    "\n",
    "        g_samples[i] = [g]\n",
    "        g_sample_array[0,i] = state['g']\n",
    "\n",
    "        state['O_on'] = 0\n",
    "        state['O_off'] = 1\n",
    "        state['m'] = m\n",
    "        state['g'] = g\n",
    "        g_sample_array[0,i] = state['g']\n",
    "\n",
    "        current_time = 0\n",
    "        samples = 1\n",
    "\n",
    "        central_dogma_rates['k_on'] = k_on\n",
    "        central_dogma_rates['k_off'] = k_off\n",
    "\n",
    "        propensities = kMC.compute_propensities(central_dogma_rates,state)\n",
    "\n",
    "        next_sample_time = t_sample\n",
    "\n",
    "        dissipation[i] = 0.0\n",
    "\n",
    "        while samples<n_samples:\n",
    "            propensities = kMC.compute_propensities(central_dogma_rates,state)\n",
    "\n",
    "            event, dt, event_prob = kMC.next_jump_and_event_type(propensities)\n",
    "\n",
    "            state = kMC.update_state(event,state)\n",
    "\n",
    "            rev_prob = kMC.reverse_event_prob(event,state,central_dogma_rates)\n",
    "\n",
    "            if event_prob>0.0 and rev_prob>0.0:\n",
    "                dissipation[i] += math.log(event_prob/rev_prob)\n",
    "\n",
    "            current_time += dt\n",
    "            event_counter += 1\n",
    "\n",
    "            if current_time>=next_sample_time:\n",
    "                m_samples[i].append(state['m'])\n",
    "                g_samples[i].append(state['g'])\n",
    "\n",
    "                next_sample_time = current_time + t_sample - (current_time - next_sample_time)\n",
    "\n",
    "                g_sample_array[samples,i] = state['g']\n",
    "\n",
    "                samples += 1\n",
    "                last_sample_event = event_counter\n",
    "\n",
    "        dissipation[i] *= 1.0/current_time\n",
    "\n",
    "        #print(X[i],' is completed: ',current_time,event_counter)\n",
    "\n",
    "    Tvalue = float(\"{:.1f}\".format(k_dm/k_dg))\n",
    "\n",
    "    tfile = 'T'+str(Tvalue).replace('.','_')+'.csv'\n",
    "\n",
    "    np.savetxt(tfile,g_sample_array,delimiter=',')\n",
    "    \n",
    "    print('Gillespie simulations for T=',Tvalue,'completed.')"
   ]
  },
  {
   "cell_type": "code",
   "execution_count": null,
   "metadata": {},
   "outputs": [],
   "source": []
  }
 ],
 "metadata": {
  "kernelspec": {
   "display_name": "Python 3",
   "language": "python",
   "name": "python3"
  },
  "language_info": {
   "codemirror_mode": {
    "name": "ipython",
    "version": 3
   },
   "file_extension": ".py",
   "mimetype": "text/x-python",
   "name": "python",
   "nbconvert_exporter": "python",
   "pygments_lexer": "ipython3",
   "version": "3.7.3"
  }
 },
 "nbformat": 4,
 "nbformat_minor": 4
}

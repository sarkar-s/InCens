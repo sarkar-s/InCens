{
 "cells": [
  {
   "cell_type": "code",
   "execution_count": 1,
   "metadata": {},
   "outputs": [],
   "source": [
    "import numpy as np\n",
    "import scipy.stats as st\n",
    "from BA import BA\n",
    "import math\n",
    "import random as rand\n",
    "import matplotlib.pyplot as plt\n",
    "import pandas as pd\n",
    "import os, sys\n",
    "from scipy.signal import savgol_filter"
   ]
  },
  {
   "cell_type": "code",
   "execution_count": 2,
   "metadata": {},
   "outputs": [],
   "source": [
    "data_folder = '/Users/sns9/Research/Translation/ODEdata/Ideal-Analytic'\n",
    "os.chdir(data_folder)"
   ]
  },
  {
   "cell_type": "code",
   "execution_count": 3,
   "metadata": {},
   "outputs": [],
   "source": [
    "l = 0.01\n",
    "k_m = 0.5\n",
    "k_dm = 0.5\n",
    "alpha = 1.0\n",
    "k_dg = [0.5,0.2,0.1,0.05,0.02,0.01,0.005,0.002,0.001,0.0005,0.0002]\n",
    "\n",
    "tag = str(int(k_m/k_dm))\n",
    "\n",
    "mean_m = str(k_m/k_dm).replace('.','-')\n",
    "\n",
    "l_T = [k_dm/k for k in k_dg]\n",
    "T = np.array(l_T)\n",
    "X = np.linspace(0,1.0,128)\n",
    "X = np.linspace(0,1.0,11)\n",
    "X[-1] = 0.99 \n",
    "\n",
    "# Replicates\n",
    "reps = 1"
   ]
  },
  {
   "cell_type": "code",
   "execution_count": 4,
   "metadata": {},
   "outputs": [
    {
     "name": "stdout",
     "output_type": "stream",
     "text": [
      "[[3.03030303e-02 2.48120301e-01]\n",
      " [3.67003367e-01 2.28989977e-01]\n",
      " [7.87878788e-01 2.08860759e-01]\n",
      " [1.32900433e+00 1.87652315e-01]\n",
      " [2.05050505e+00 1.65275459e-01]\n",
      " [3.06060606e+00 1.41630901e-01]\n",
      " [4.57575758e+00 1.16607774e-01]\n",
      " [7.10101010e+00 9.00818926e-02]\n",
      " [1.21515152e+01 6.19136961e-02]\n",
      " [2.73030303e+01 3.19457890e-02]\n",
      " [3.00030303e+02 3.28914582e-03]]\n"
     ]
    }
   ],
   "source": [
    "\"\"\"Compute parameters for the transcript expression distribution as shown in\n",
    "So, L. H., Ghosh, A., Zong, C., Sepúlveda, L. A., Segev, R., & Golding, I. (2011). General properties of transcriptional time series in Escherichia coli. Nature genetics, 43(6), 554-560.\n",
    "\n",
    "\"\"\"\n",
    "\n",
    "r_params = np.zeros(shape=(X.shape[0],2))\n",
    "\n",
    "for i in range(0,X.shape[0]):\n",
    "    k_on = alpha*((1-l)*X[i] + l)\n",
    "    k_off = alpha*(1 - X[i])*(1 - l)\n",
    "    \n",
    "    m = (k_m/k_dm)*k_on/(k_on + k_off)\n",
    "    \n",
    "    b = 1 + (k_dm*k_off*m)/(k_on*(k_on+k_off+k_dm)) \n",
    "    \n",
    "    beta = b - 1\n",
    "    \n",
    "    if beta>0.0:\n",
    "        r_params[i,0] = m/beta\n",
    "        r_params[i,1] = (b - 1.0)/b\n",
    "    else:\n",
    "        r_params[i,0] = m\n",
    "        r_params[i,1] = 0.0"
   ]
  },
  {
   "cell_type": "code",
   "execution_count": 5,
   "metadata": {},
   "outputs": [],
   "source": [
    "bao = BA()\n",
    "\n",
    "bin_size = 100\n",
    "\n",
    "n_samples = 1000000\n",
    "\n",
    "all_cs = np.zeros(shape=(T.shape[0],1+reps))\n",
    "\n",
    "all_cs[:,0] = T"
   ]
  },
  {
   "cell_type": "code",
   "execution_count": 7,
   "metadata": {},
   "outputs": [
    {
     "name": "stdout",
     "output_type": "stream",
     "text": [
      "5.0\n",
      "8.0\n",
      "12.0\n",
      "19.0\n",
      "38.0\n"
     ]
    },
    {
     "name": "stderr",
     "output_type": "stream",
     "text": [
      "/usr/local/lib/python3.7/site-packages/ipykernel_launcher.py:33: DeprecationWarning: object of type <class 'numpy.float64'> cannot be safely interpreted as an integer.\n",
      "/usr/local/lib/python3.7/site-packages/ipykernel_launcher.py:16: DeprecationWarning: object of type <class 'numpy.float64'> cannot be safely interpreted as an integer.\n",
      "  app.launch_new_instance()\n"
     ]
    },
    {
     "name": "stdout",
     "output_type": "stream",
     "text": [
      "68.0\n",
      "124.0\n",
      "[1.97544481e-01 1.55334094e-01 8.72423287e-02 8.89069841e-02\n",
      " 5.95158979e-02 8.41338592e-02 2.72777107e-02 1.00156427e-01\n",
      " 2.62008568e-02 6.88904865e-09 1.73687353e-01] 2.2745430882287256\n",
      "200\n",
      "200\n",
      "200\n",
      "200\n",
      "[0.39931685 0.72995613 0.92657666 1.17872961 1.56991957 1.9164859\n",
      " 2.27454309 2.72819378 3.04598966 3.22702735 3.44298286]\n"
     ]
    }
   ],
   "source": [
    "for rr in range(0,reps):\n",
    "    for it in range(0,T.shape[0]):\n",
    "        t = T[it]\n",
    "        \n",
    "        # create bins\n",
    "        if r_params[0,1]>0.0:\n",
    "            g_min = st.nbinom.ppf(0.01,r_params[0,0]*t,1-r_params[0,1])\n",
    "        else:\n",
    "            g_min = st.poisson.ppf(0.01,r_params[0,0]*t)\n",
    "\n",
    "        if r_params[-1,1]>0.0:\n",
    "            g_max = st.nbinom.ppf(0.99,r_params[-1,0]*t,1-r_params[-1,1])\n",
    "        else:\n",
    "            g_max = st.poisson.ppf(0.99,r_params[-1,0]*t)\n",
    "\n",
    "        g_bins = list(10**np.linspace(math.log10(max(1,g_min)),math.log10(g_max+1),bin_size))\n",
    "        \n",
    "        #g_bins = []\n",
    "        \n",
    "        #for gb in g_bins_0:\n",
    "        #    g_bins.append(int(gb))\n",
    "            \n",
    "        #g_bins = list(np.linspace(0.0,g_max+1,bin_size+1))\n",
    "        #g_bins.insert(0,g_min-1)\n",
    "        #g_bins = np.array(g_bins)\n",
    "\n",
    "        #g_pdfs = np.zeros(shape=(r_params.shape[0],bin_size))\n",
    "        \n",
    "        bin_size = min(200,g_max - g_min + 1)\n",
    "        #bin_size = g_max - g_min + 1\n",
    "        print(bin_size)\n",
    "    \n",
    "        g_bin_edges = np.linspace(g_min,g_max+1,bin_size+1)\n",
    "        g_locs_i = g_bin_edges.astype(int)\n",
    "        g_pdfs = np.zeros(shape=(r_params.shape[0],g_locs_i.shape[0]))\n",
    "\n",
    "        for i in range(0,r_params.shape[0]):\n",
    "            if r_params[i,1]>0.0:\n",
    "                p = r_params[i,1]\n",
    "                r = r_params[i,0]*t\n",
    "\n",
    "                #g_samples = st.nbinom.rvs(r,1-p,0,n_samples)\n",
    "                #g_cdf = st.nbinom.cdf(g_bins,r,1-p)\n",
    "                \n",
    "                l_cdf = st.nbinom.cdf(g_locs_i,r,1-p,0)\n",
    "                l_pdf = l_cdf\n",
    "                l_pdf[1:] = l_pdf[1:] - l_pdf[:-1]\n",
    "            else:\n",
    "                r = r_params[i,0]*t\n",
    "                g_samples = st.poisson.rvs(r,0,n_samples)\n",
    "                #g_cdf = st.poisson.cdf(g_bins,r)\n",
    "                \n",
    "                l_cdf = st.poisson.cdf(g_locs_i,r,0)\n",
    "                l_pdf = l_cdf\n",
    "                l_pdf[1:] = l_pdf[1:] - l_pdf[:-1]\n",
    "                \n",
    "            g_pdfs[i,:] = l_pdf/np.sum(l_pdf)\n",
    "\n",
    "            #g_hist, bin_edges = np.histogram(g_samples,g_bins)\n",
    "            #g_pdfs[i,:] = g_hist/sum(g_hist)\n",
    "            \n",
    "            #for j in range(0,g_pdfs.shape[1]):\n",
    "            #    g_pdfs[i,j] = g_cdf[j+1] - g_cdf[j]\n",
    "        \n",
    "            #g_pdfs[i,:] *= 1.0/np.sum(g_pdfs[i,:])\n",
    "\n",
    "        bao.set_response(g_pdfs)\n",
    "        c_g, e, p = bao.get_CC()\n",
    "        \n",
    "        if t==100.0:\n",
    "            print(p,c_g)\n",
    "\n",
    "        all_cs[it,0] = t\n",
    "        all_cs[it,rr+1] = c_g\n",
    "\n",
    "print(all_cs[:,1])"
   ]
  },
  {
   "cell_type": "code",
   "execution_count": 14,
   "metadata": {},
   "outputs": [],
   "source": [
    "final_output = np.zeros(shape=(all_cs.shape[0],4))\n",
    "\n",
    "final_output[:,0] = all_cs[:,0]\n",
    "\n",
    "for k in range(0,final_output.shape[0]):\n",
    "    final_output[k,1] = np.mean(all_cs[k,1:])\n",
    "    \n",
    "    #bound = st.t.interval(0.95, len(all_cs[k,5:])-1, loc=np.mean(all_cs[k,5:]), scale=st.sem(all_cs[k,5:]))\n",
    "\n",
    "    #final_output[k,2] = bound[1] - final_output[k,1]\n",
    "    #final_output[k,3] = final_output[k,1] - bound[0]\n",
    "    \n",
    "    \n",
    "head = 'T,c(X;gideal),+,-'\n",
    "\n",
    "np.savetxt('128-cs-ideal-tpower'+tag+'.csv',final_output,header=head,comments='',delimiter=',')"
   ]
  },
  {
   "cell_type": "code",
   "execution_count": null,
   "metadata": {},
   "outputs": [],
   "source": [
    "for it in range(0,T.shape[0]):\n",
    "    t = T[it]\n",
    "    \n",
    "    casename = 'expressions'+str(t).replace('.','-')+'.csv'\n",
    "    bound_name = 'bounds'+str(t).replace('.','-')+'.csv'\n",
    "    \n",
    "    # create bins\n",
    "    if r_params[0,1]>0.0:\n",
    "        g_min = st.nbinom.ppf(0.01,r_params[0,0]*t,1-r_params[0,1])\n",
    "    else:\n",
    "        g_min = st.poisson.ppf(0.01,r_params[0,0]*t)\n",
    "    \n",
    "    if r_params[-1,1]>0.0:\n",
    "        g_max = st.nbinom.ppf(0.99,r_params[-1,0]*t,1-r_params[-1,1])\n",
    "    else:\n",
    "        g_max = st.poisson.ppf(0.99,r_params[-1,0]*t)\n",
    "    \n",
    "    g_bins = list(10**np.linspace(0.0,math.log10(g_max+1),bin_size))\n",
    "    g_bins.insert(0,0)\n",
    "    g_bins = np.array(g_bins)\n",
    "     \n",
    "    g_pdfs = np.zeros(shape=(r_params.shape[0],bin_size))\n",
    "    \n",
    "    for i in range(0,r_params.shape[0]):\n",
    "        if r_params[i,1]>0.0:\n",
    "            p = r_params[i,1]\n",
    "            r = r_params[i,0]*t\n",
    "        \n",
    "            #g_samples = st.nbinom.rvs(r,1-p,0,n_samples)\n",
    "            g_cdf = st.nbinom.cdf(g_bins,r,1-p)\n",
    "        else:\n",
    "            r = r_params[i,0]*t\n",
    "            #g_samples = st.poisson.rvs(r,0,n_samples)\n",
    "            g_cdf = st.poisson.cdf(g_bins,r)\n",
    "            \n",
    "        #g_hist, bin_edges = np.histogram(g_samples,g_bins)\n",
    "        #g_pdfs[i,:] = g_hist/sum(g_hist)\n",
    "        \n",
    "        for j in range(0,g_pdfs.shape[1]):\n",
    "            g_pdfs[i,j] = g_cdf[j+1] - g_cdf[j]\n",
    "        \n",
    "        g_pdfs[i,:] *= 1.0/np.sum(g_pdfs[i,:])\n",
    "    \n",
    "    bao.set_response(g_pdfs)\n",
    "    c_g, e, p = bao.get_CC()\n",
    "    \n",
    "    all_cs[it,0] = t\n",
    "    all_cs[it,1] = c_g\n",
    "\n",
    "    print(t,' is complete.')"
   ]
  },
  {
   "cell_type": "code",
   "execution_count": null,
   "metadata": {},
   "outputs": [],
   "source": [
    "np.savetxt('Ideal_cs-tpower10.csv',all_cs[:,:2],delimiter=',',header='t,c',comments='')"
   ]
  },
  {
   "cell_type": "code",
   "execution_count": null,
   "metadata": {},
   "outputs": [],
   "source": [
    "all_cs[:,2] = savgol_filter(all_cs[:,1],17,1,1)\n",
    "all_cs[11:,2] = savgol_filter(all_cs[:,1],9,1,1)[11:]\n",
    "all_cs[15:,2] = savgol_filter(all_cs[:,1],3,1,1)[15:]\n",
    "np.savetxt('2-5all_cs-d10.csv',all_cs,delimiter=',',header='t,c,dc/dt',comments='')"
   ]
  },
  {
   "cell_type": "code",
   "execution_count": null,
   "metadata": {},
   "outputs": [],
   "source": [
    "all_cs[:,2] = savgol_filter(all_cs[:,1],7,1,1)\n",
    "np.savetxt('all_cs-yeast.csv',all_cs,delimiter=',',header='t,c,dc/dt',comments='')"
   ]
  },
  {
   "cell_type": "code",
   "execution_count": null,
   "metadata": {},
   "outputs": [],
   "source": [
    "np.savetxt('all_cs-yeast.csv',all_cs,delimiter=',',header='t,c,dc/dt',comments='')"
   ]
  },
  {
   "cell_type": "code",
   "execution_count": null,
   "metadata": {},
   "outputs": [],
   "source": []
  }
 ],
 "metadata": {
  "kernelspec": {
   "display_name": "Python 3",
   "language": "python",
   "name": "python3"
  },
  "language_info": {
   "codemirror_mode": {
    "name": "ipython",
    "version": 3
   },
   "file_extension": ".py",
   "mimetype": "text/x-python",
   "name": "python",
   "nbconvert_exporter": "python",
   "pygments_lexer": "ipython3",
   "version": "3.7.3"
  }
 },
 "nbformat": 4,
 "nbformat_minor": 4
}

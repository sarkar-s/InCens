{
 "cells": [
  {
   "cell_type": "code",
   "execution_count": 1,
   "metadata": {},
   "outputs": [],
   "source": [
    "import os,sys\n",
    "import numpy as np\n",
    "import scipy.stats as st\n",
    "from scripts.BA_C import BA\n",
    "import math\n",
    "import random as rand\n",
    "import matplotlib.pyplot as plt\n",
    "import glob\n",
    "import pandas as pd\n",
    "import scipy.stats as st\n",
    "from matplotlib import rcParams\n",
    "import matplotlib.gridspec as gridspec"
   ]
  },
  {
   "cell_type": "code",
   "execution_count": 2,
   "metadata": {},
   "outputs": [],
   "source": [
    "def get_subsample_data(this_data,df):\n",
    "    sub_data = np.zeros(shape=(int(this_data.shape[0]/df),this_data.shape[1]))\n",
    "    \n",
    "    for i in range(0,this_data.shape[1]):\n",
    "        sub_data[:,i] = rand.choices(this_data[:,i],k=sub_data.shape[0])\n",
    "        \n",
    "    return sub_data"
   ]
  },
  {
   "cell_type": "code",
   "execution_count": 3,
   "metadata": {},
   "outputs": [
    {
     "name": "stdout",
     "output_type": "stream",
     "text": [
      "['T1_0.csv', 'T1000_0.csv', 'T10_0.csv', 'T5_0.csv', 'T100_0.csv', 'T2500_0.csv', 'T2_5.csv', 'T50_0.csv', 'T250_0.csv', 'T25_0.csv', 'T500_0.csv']\n"
     ]
    }
   ],
   "source": [
    "data_directory = './Example_data/'\n",
    "translation_power = 10.0\n",
    "data_directory += str(translation_power).replace('.','-')+'_samples'\n",
    "os.chdir(data_directory)\n",
    "\n",
    "data_fractions = [1,2,5,10]\n",
    "reps = 5\n",
    "\n",
    "c_files = glob.glob('T*.csv')\n",
    "print(c_files)"
   ]
  },
  {
   "cell_type": "code",
   "execution_count": 4,
   "metadata": {},
   "outputs": [
    {
     "name": "stdout",
     "output_type": "stream",
     "text": [
      "[1.0e+00 2.5e+00 5.0e+00 1.0e+01 2.5e+01 5.0e+01 1.0e+02 2.5e+02 5.0e+02\n",
      " 1.0e+03 2.5e+03]\n"
     ]
    }
   ],
   "source": [
    "t_values = []\n",
    "datas = {}\n",
    "diss_datas = {}\n",
    "\n",
    "for f in c_files:\n",
    "    t = f.replace('T','').replace('.csv','').replace('_','.')\n",
    "\n",
    "    datas[t] = pd.read_csv(f,header=None).to_numpy()\n",
    "    \n",
    "    t_values.append(float(t))\n",
    "\n",
    "t_values.sort()\n",
    "\n",
    "t_and_c = np.zeros(shape=(len(t_values),2))\n",
    "t_and_c[:,0] = np.array(t_values)\n",
    "print(t_and_c[:,0])"
   ]
  },
  {
   "cell_type": "code",
   "execution_count": null,
   "metadata": {},
   "outputs": [],
   "source": [
    "max_bins = 64\n",
    "\n",
    "bao = BA()\n",
    "\n",
    "cs = []\n",
    "\n",
    "for i in range(0,t_and_c.shape[0]):\n",
    "    d = str(t_and_c[i,0])\n",
    "    \n",
    "    gmin, gmax = np.min(datas[d]),np.max(datas[d])\n",
    "    \n",
    "    if t_and_c[i,0]<10.0:\n",
    "        bins = max_bins/8\n",
    "    elif t_and_c[i,0]<100.0:\n",
    "        bins = max_bins/4\n",
    "    elif t_and_c[i,0]<1000.0:\n",
    "        bins = max_bins/2\n",
    " \n",
    "    bin_size = int(min(bins,int(gmax - gmin + 1)))\n",
    "    print(bin_size)\n",
    "            \n",
    "    g_edges = np.linspace(gmin,gmax,bin_size+1)\n",
    "    \n",
    "    this_c_set = np.zeros(shape=(len(data_fractions)*5,5))\n",
    "    \n",
    "    k = 0\n",
    "    \n",
    "    for df in data_fractions:\n",
    "        for r in range(0,reps):\n",
    "            sub_data = get_subsample_data(datas[d],df)\n",
    "            \n",
    "            g_pdfs = np.zeros(shape=(datas[d].shape[1],bin_size))\n",
    "\n",
    "            for j in range(0,datas[d].shape[1]):\n",
    "                ghist, bin_edges = np.histogram(sub_data[:,j],bins=g_edges)\n",
    "\n",
    "                g_pdfs[j,:] = ghist/np.sum(ghist)\n",
    "    \n",
    "            bao.set_response(g_pdfs)\n",
    "            c, e, p = bao.get_CC()\n",
    "            \n",
    "            this_c_set[k,0] = df\n",
    "            this_c_set[k,1] = c\n",
    "            \n",
    "            k += 1\n",
    "            \n",
    "    res = st.linregress(this_c_set[:,0],this_c_set[:,1])\n",
    "    \n",
    "    c = float(\"{:.2f}\".format(res.intercept))\n",
    "    \n",
    "    t_and_c[i,1] = c\n",
    "    \n",
    "    print(d,c)\n",
    "    \n",
    "    cs.append(c)\n",
    "    \n",
    "#t_and_c[:,1] = np.array(cs)"
   ]
  },
  {
   "cell_type": "code",
   "execution_count": null,
   "metadata": {},
   "outputs": [],
   "source": [
    "sorted_array = t_and_c[[np.argsort(t_and_c[:,0])]]\n",
    "\n",
    "print(sorted_array)"
   ]
  },
  {
   "cell_type": "code",
   "execution_count": null,
   "metadata": {},
   "outputs": [],
   "source": [
    "outfile = 'C-summary'+str(translation_power).replace('.','-')+'.csv'\n",
    "\n",
    "np.savetxt(outfile,sorted_array,delimiter=',',header='T,c_g,sigma',comments='')"
   ]
  },
  {
   "cell_type": "code",
   "execution_count": null,
   "metadata": {},
   "outputs": [],
   "source": [
    "data_folder = '/Users/sns9/Research/Translation/tpower'\n",
    "os.chdir(data_folder)\n",
    "\n",
    "d1 = pd.read_csv('cs-ideal-tpower1.csv').to_numpy()\n",
    "\n",
    "g0 = pd.read_csv('1-0_samples/C-summary1-0.csv').to_numpy()\n",
    "g1 = pd.read_csv('10-0_samples/C-summary10-0.csv').to_numpy()\n",
    "g2 = pd.read_csv('100-0_samples/C-summary100-0.csv').to_numpy()\n",
    "g3 = pd.read_csv('1000-0_samples/C-summary1000-0.csv').to_numpy()\n",
    "g4 = pd.read_csv('10000-0_samples/C-summary10000-0.csv').to_numpy()\n",
    "\n",
    "fig = plt.figure(figsize=(5,4))\n",
    "\n",
    "plt.plot(g0[:,0],g0[:,1],marker='^',ms=10,lw=1.0,color='black',alpha=0.2,mew=0,label=r'$k_g/k_{d,g}=1$')\n",
    "plt.plot(g1[:,0],g1[:,1],marker='s',ms=8,lw=1.0,color='black',alpha=0.3,mew=0,label=r'$k_g/k_{d,g}=10$')\n",
    "plt.plot(g2[:,0],g2[:,1],marker='*',ms=12,lw=1.0,color='black',alpha=0.4,mew=0,label=r'$k_g/k_{d,g}=10^2$')\n",
    "plt.plot(g3[:,0],g3[:,1],marker='d',ms=10,lw=1.0,color='black',alpha=0.5,mew=0,label=r'$k_g/k_{d,g}=10^3$')\n",
    "plt.plot(g4[:,0],g4[:,1],marker='X',ms=10,lw=1.0,color='black',alpha=0.6,mew=0,label=r'$k_g/k_{d,g}=10^4$')\n",
    "plt.plot(d1[:,0],d1[:,1],marker='.',ms=15,lw=1.0,color='black',alpha=1.0,mew=0,label=r'$c_{\\mathrm{sup}}(T)$')\n",
    "#plt.plot(d8[:,0],d8[:,1],marker='.',ms=10,lw=1.0,label=r'$k_m/k_{d,m}=8$')\n",
    "#plt.plot(d16[:,0],d16[:,1],marker='.',ms=10,lw=1.0,label=r'$k_m/k_{d,m}=16$')\n",
    "plt.xscale('log')\n",
    "plt.xlabel(r'$T=k_{d,m}/k_{d,g}$',fontsize=16)\n",
    "#plt.ylabel(r'$c(X;g_{\\mathrm{int}})$',fontsize=16)\n",
    "plt.ylabel(r'$c(X;g)$',fontsize=16)\n",
    "plt.tick_params(labelsize=16)\n",
    "plt.legend(frameon=False,prop={'size': 12})\n",
    "plt.tight_layout()\n",
    "plt.savefig('translationPower.png',dpi=300)"
   ]
  },
  {
   "cell_type": "code",
   "execution_count": null,
   "metadata": {},
   "outputs": [],
   "source": []
  }
 ],
 "metadata": {
  "kernelspec": {
   "display_name": "Python 3",
   "language": "python",
   "name": "python3"
  },
  "language_info": {
   "codemirror_mode": {
    "name": "ipython",
    "version": 3
   },
   "file_extension": ".py",
   "mimetype": "text/x-python",
   "name": "python",
   "nbconvert_exporter": "python",
   "pygments_lexer": "ipython3",
   "version": "3.7.3"
  }
 },
 "nbformat": 4,
 "nbformat_minor": 4
}

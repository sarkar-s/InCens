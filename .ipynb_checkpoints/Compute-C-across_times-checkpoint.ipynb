{
 "cells": [
  {
   "cell_type": "code",
   "execution_count": 1,
   "metadata": {},
   "outputs": [],
   "source": [
    "import os,sys\n",
    "import numpy as np\n",
    "import scipy.stats as st\n",
    "from BA_C import BA\n",
    "import math\n",
    "import random as rand\n",
    "import matplotlib.pyplot as plt\n",
    "import glob\n",
    "import pandas as pd\n",
    "from matplotlib import rcParams\n",
    "import matplotlib.gridspec as gridspec"
   ]
  },
  {
   "cell_type": "code",
   "execution_count": 2,
   "metadata": {},
   "outputs": [
    {
     "name": "stdout",
     "output_type": "stream",
     "text": [
      "['T1_0.csv', 'T1000_0.csv', 'T10_0.csv', 'T5_0.csv', 'T100_0.csv', 'T2500_0.csv', 'T2_5.csv', 'T50_0.csv', 'T250_0.csv', 'T25_0.csv', 'T500_0.csv']\n"
     ]
    }
   ],
   "source": [
    "data_directory = './test/'\n",
    "translation_power = 100.0\n",
    "data_directory += str(translation_power).replace('.','-')+'_samples'\n",
    "os.chdir(data_directory)\n",
    "\n",
    "c_files = glob.glob('T*.csv')\n",
    "print(c_files)"
   ]
  },
  {
   "cell_type": "code",
   "execution_count": 3,
   "metadata": {},
   "outputs": [
    {
     "name": "stdout",
     "output_type": "stream",
     "text": [
      "['diss-50_0.csv', 'diss-1000_0.csv', 'diss-5_0.csv', 'diss-1_0.csv', 'diss-500_0.csv', 'diss-250_0.csv', 'diss-2_5.csv', 'diss-2500_0.csv', 'diss-10_0.csv', 'diss-25_0.csv', 'diss-100_0.csv']\n",
      "(4, 1)\n"
     ]
    }
   ],
   "source": [
    "d_file = glob.glob('diss*.csv')\n",
    "print(d_file)\n",
    "diss = pd.read_csv(d_file[0],header=None).to_numpy()\n",
    "print(diss.shape)"
   ]
  },
  {
   "cell_type": "code",
   "execution_count": 4,
   "metadata": {},
   "outputs": [
    {
     "name": "stdout",
     "output_type": "stream",
     "text": [
      "[1.0e+00 2.5e+00 5.0e+00 1.0e+01 2.5e+01 5.0e+01 1.0e+02 2.5e+02 5.0e+02\n",
      " 1.0e+03 2.5e+03]\n"
     ]
    }
   ],
   "source": [
    "t_values = []\n",
    "datas = {}\n",
    "diss_datas = {}\n",
    "\n",
    "for f in c_files:\n",
    "    t = f.replace('T','').replace('.csv','').replace('_','.')\n",
    "\n",
    "    datas[t] = pd.read_csv(f,header=None).to_numpy()\n",
    "    \n",
    "    t_values.append(float(t))\n",
    "\n",
    "t_values.sort()\n",
    "\n",
    "t_and_c = np.zeros(shape=(len(t_values),2))\n",
    "t_and_c[:,0] = np.array(t_values)\n",
    "print(t_and_c[:,0])"
   ]
  },
  {
   "cell_type": "code",
   "execution_count": 5,
   "metadata": {},
   "outputs": [
    {
     "name": "stdout",
     "output_type": "stream",
     "text": [
      "1.0 [21819, 134]\n",
      "2.5 [16159, 143]\n",
      "5.0 [6246, 146]\n",
      "10.0 [4262, 155, 161]\n",
      "25.0 [1434, 159, 184]\n",
      "50.0 [594, 157, 178, 211]\n",
      "100.0 [281, 183, 187, 220, 246]\n",
      "250.0 [161, 195, 208, 243, 261, 293, 309, 337]\n",
      "500.0 [143, 185, 228, 284, 322, 346, 360, 383, 411, 453]\n",
      "1000.0 [133, 215, 265, 315, 308, 389, 375, 422, 447, 476, 517, 569, 565, 595]\n",
      "2500.0 [134, 242, 303, 325, 382, 430, 407, 427, 512, 581, 529, 637, 590, 674, 681, 690, 688, 773, 895, 786]\n"
     ]
    }
   ],
   "source": [
    "for j in range(0,t_and_c.shape[0]):\n",
    "    d = str(t_and_c[j,0])\n",
    "    bs = []\n",
    "    \n",
    "    for i in range(0,datas[d].shape[1]):\n",
    "        ghist, bin_edges = np.histogram(datas[d][:,i],bins='fd')\n",
    "        bs.append(ghist.shape[0])\n",
    "        #print(np.percentile(datas[d][:,i],1),np.percentile(datas[d][:,i],99))\n",
    "        \n",
    "    print(d,bs)"
   ]
  },
  {
   "cell_type": "code",
   "execution_count": 6,
   "metadata": {},
   "outputs": [],
   "source": [
    "#b_set = [5,5,5,8,8,8,10,16,16,20,20] # 100\n",
    "#b_set = [5,5,8,8,10,10,10,10,20,20,20] #1000\n",
    "b_set = [5,5,5,10,10,16,16,16,20,20,20] #10000"
   ]
  },
  {
   "cell_type": "code",
   "execution_count": 7,
   "metadata": {},
   "outputs": [
    {
     "name": "stdout",
     "output_type": "stream",
     "text": [
      "1.0 0.82\n",
      "2.5 0.93\n",
      "5.0 0.97\n",
      "10.0 1.18\n",
      "25.0 1.39\n",
      "50.0 1.71\n",
      "100.0 2.04\n",
      "250.0 2.58\n",
      "500.0 2.96\n",
      "1000.0 3.39\n",
      "2500.0 3.88\n"
     ]
    }
   ],
   "source": [
    "bao = BA()\n",
    "\n",
    "cs = []\n",
    "\n",
    "for i in range(0,t_and_c.shape[0]):\n",
    "    d = str(t_and_c[i,0])\n",
    "    \n",
    "    gmin, gmax = np.percentile(datas[d][1:,0],1),np.percentile(datas[d][1:,-1],99)\n",
    "    #gmin, gmax = np.min(datas[d]), np.max(datas[d])\n",
    "    #print(gmin,gmax)\n",
    "    \n",
    "    #bin_size = b_set[i]#int(min(b_set[i],gmax - gmin + 1))\n",
    "    \n",
    "    bin_size = 50#min(b_set[i],int(gmax - gmin + 1))\n",
    "    #bin_size = min(10,gmax - gmin + 1)\n",
    "    \n",
    "    g_edges = np.linspace(gmin,gmax,bin_size+1)\n",
    "    \n",
    "    #g_edges = 10**np.linspace(math.log10(max(gmin,1)),math.log10(gmax+1),bin_size+1)\n",
    "    \n",
    "    g_pdfs = np.zeros(shape=(datas[d].shape[1],bin_size))\n",
    "    \n",
    "    for j in range(0,datas[d].shape[1]):\n",
    "        ghist, bin_edges = np.histogram(datas[d][:,j],bins=g_edges)\n",
    "        \n",
    "        g_pdfs[j,:] = ghist/np.sum(ghist)\n",
    "        \n",
    "        #print(np.sum(g_pdfs[j,:]))\n",
    "        \n",
    "        #print(i,' completed.',np.var(datas[d][:,i]))\n",
    "        \n",
    "    bao.set_response(g_pdfs)\n",
    "    c, e, p = bao.get_CC()\n",
    "    \n",
    "    #if t_and_c[i,0] in diss[:,0]:\n",
    "    #    diss_values = diss[diss[:,0]==t_and_c[i,0],1:][0]\n",
    "    #    t_and_c[i,2] = np.dot(p,diss_values)\n",
    "    \n",
    "    c = float(\"{:.2f}\".format(c))\n",
    "    \n",
    "    t_and_c[i,1] = c\n",
    "    \n",
    "    print(d,c)\n",
    "    \n",
    "    cs.append(c)\n",
    "    \n",
    "t_and_c[:,1] = np.array(cs)"
   ]
  },
  {
   "cell_type": "code",
   "execution_count": 8,
   "metadata": {},
   "outputs": [
    {
     "name": "stdout",
     "output_type": "stream",
     "text": [
      "[[1.00e+00 8.20e-01]\n",
      " [2.50e+00 9.30e-01]\n",
      " [5.00e+00 9.70e-01]\n",
      " [1.00e+01 1.18e+00]\n",
      " [2.50e+01 1.39e+00]\n",
      " [5.00e+01 1.71e+00]\n",
      " [1.00e+02 2.04e+00]\n",
      " [2.50e+02 2.58e+00]\n",
      " [5.00e+02 2.96e+00]\n",
      " [1.00e+03 3.39e+00]\n",
      " [2.50e+03 3.88e+00]]\n"
     ]
    },
    {
     "name": "stderr",
     "output_type": "stream",
     "text": [
      "/usr/local/lib/python3.7/site-packages/ipykernel_launcher.py:1: FutureWarning: Using a non-tuple sequence for multidimensional indexing is deprecated; use `arr[tuple(seq)]` instead of `arr[seq]`. In the future this will be interpreted as an array index, `arr[np.array(seq)]`, which will result either in an error or a different result.\n",
      "  \"\"\"Entry point for launching an IPython kernel.\n"
     ]
    }
   ],
   "source": [
    "sorted_array = t_and_c[[np.argsort(t_and_c[:,0])]]\n",
    "\n",
    "print(sorted_array)"
   ]
  },
  {
   "cell_type": "code",
   "execution_count": 9,
   "metadata": {},
   "outputs": [],
   "source": [
    "#outfile = species+'_final_c-summary10000-0.csv'\n",
    "outfile = 'final_c-summary'+str(translation_power).replace('.','-')+'.csv'\n",
    "\n",
    "np.savetxt(outfile,sorted_array,delimiter=',',header='T,c_g,sigma',comments='')"
   ]
  },
  {
   "cell_type": "code",
   "execution_count": 30,
   "metadata": {},
   "outputs": [
    {
     "data": {
      "image/png": "[encoded data removed]",
      "text/plain": [
       "<Figure size 720x144 with 14 Axes>"
      ]
     },
     "metadata": {
      "needs_background": "light"
     },
     "output_type": "display_data"
    }
   ],
   "source": [
    "k = 9\n",
    "\n",
    "d = str(t_and_c[k,0])\n",
    "\n",
    "gmin, gmax = np.percentile(datas[d][:,0],1),np.percentile(datas[d][:,-1],99)\n",
    "\n",
    "bin_size = b_set[k]#int(min(b_set[i],gmax - gmin + 1))\n",
    "\n",
    "#g_edges = 10**np.linspace(math.log10(max(gmin,1)),math.log10(gmax+1),bin_size+1)\n",
    "g_edges = np.linspace(gmin,gmax,bin_size+1)\n",
    "    \n",
    "fig = plt.figure(figsize=(10,2))\n",
    "gs = fig.add_gridspec(1,datas[d].shape[1],wspace=0)\n",
    "axs = gs.subplots(sharex=True, sharey=True)\n",
    "\n",
    "#fig, axs = plt.subplots(1,10,sharey=True,figsize=(10,3))\n",
    "\n",
    "for i in range(0,datas[d].shape[1]):\n",
    "    #vals = st.poisson.rvs(gs[i],0,samples)\n",
    "    \n",
    "    axs[i] = plt.subplot(gs[0,i])\n",
    "    \n",
    "    axs[i].hist(datas[d][:,i]+1,orientation='horizontal',bins=g_edges,color='#005500',alpha=0.6)\n",
    "    #axs[i].set_yscale('log')\n",
    "    #axs[i].set_ylim(0,20)\n",
    "    #axs[i].set_xlim(0,0.2)\n",
    "    axs[i].axes.xaxis.set_visible(False)\n",
    "    axs[i].axes.yaxis.set_visible(False)\n",
    "\n",
    "#plt.savefig('channel.png',dpi=300)"
   ]
  },
  {
   "cell_type": "code",
   "execution_count": null,
   "metadata": {},
   "outputs": [],
   "source": []
  }
 ],
 "metadata": {
  "kernelspec": {
   "display_name": "Python 3",
   "language": "python",
   "name": "python3"
  },
  "language_info": {
   "codemirror_mode": {
    "name": "ipython",
    "version": 3
   },
   "file_extension": ".py",
   "mimetype": "text/x-python",
   "name": "python",
   "nbconvert_exporter": "python",
   "pygments_lexer": "ipython3",
   "version": "3.7.3"
  }
 },
 "nbformat": 4,
 "nbformat_minor": 4
}
